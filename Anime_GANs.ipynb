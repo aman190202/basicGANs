{
  "nbformat": 4,
  "nbformat_minor": 0,
  "metadata": {
    "colab": {
      "name": "Anime-GANs.ipynb",
      "provenance": [],
      "authorship_tag": "ABX9TyMkUyonaPeHqLY2OhavUwPA",
      "include_colab_link": true
    },
    "kernelspec": {
      "name": "python3",
      "display_name": "Python 3"
    },
    "language_info": {
      "name": "python"
    }
  },
  "cells": [
    {
      "cell_type": "markdown",
      "metadata": {
        "id": "view-in-github",
        "colab_type": "text"
      },
      "source": [
        "<a href=\"https://colab.research.google.com/github/aman190202/basicGANs/blob/main/Anime_GANs.ipynb\" target=\"_parent\"><img src=\"https://colab.research.google.com/assets/colab-badge.svg\" alt=\"Open In Colab\"/></a>"
      ]
    },
    {
      "cell_type": "code",
      "execution_count": 1,
      "metadata": {
        "colab": {
          "base_uri": "https://localhost:8080/"
        },
        "id": "g5qKRoxI8XSx",
        "outputId": "a9c9d9d9-676e-4bbe-caf3-b23113ee654b"
      },
      "outputs": [
        {
          "output_type": "stream",
          "name": "stdout",
          "text": [
            "--2022-08-23 09:05:33--  https://www.kaggle.com/datasets/splcher/animefacedataset/download?datasetVersionNumber=3\n",
            "Resolving www.kaggle.com (www.kaggle.com)... 35.244.233.98\n",
            "Connecting to www.kaggle.com (www.kaggle.com)|35.244.233.98|:443... connected.\n",
            "HTTP request sent, awaiting response... 302 Found\n",
            "Location: /account/login?titleType=dataset-downloads&showDatasetDownloadSkip=False&messageId=datasetsWelcome&returnUrl=%2Fdatasets%2Fsplcher%2Fanimefacedataset%2Fversions%2F3%3Fresource%3Ddownload [following]\n",
            "--2022-08-23 09:05:34--  https://www.kaggle.com/account/login?titleType=dataset-downloads&showDatasetDownloadSkip=False&messageId=datasetsWelcome&returnUrl=%2Fdatasets%2Fsplcher%2Fanimefacedataset%2Fversions%2F3%3Fresource%3Ddownload\n",
            "Reusing existing connection to www.kaggle.com:443.\n",
            "HTTP request sent, awaiting response... 200 OK\n",
            "Length: unspecified [text/html]\n",
            "Saving to: ‘download?datasetVersionNumber=3’\n",
            "\n",
            "download?datasetVer     [ <=>                ]   6.48K  --.-KB/s    in 0.04s   \n",
            "\n",
            "2022-08-23 09:05:34 (179 KB/s) - ‘download?datasetVersionNumber=3’ saved [6637]\n",
            "\n"
          ]
        }
      ],
      "source": [
        "/content/download?datasetVersionNumber=3"
      ]
    },
    {
      "cell_type": "code",
      "source": [
        "!unzip /content/download?datasetVersionNumber=3"
      ],
      "metadata": {
        "colab": {
          "base_uri": "https://localhost:8080/"
        },
        "id": "TLAPLJNF8_yt",
        "outputId": "9a6cd797-ed50-4983-9cad-3de6ac1829c9"
      },
      "execution_count": 2,
      "outputs": [
        {
          "output_type": "stream",
          "name": "stdout",
          "text": [
            "Archive:  /content/download?datasetVersionNumber=3\n",
            "  End-of-central-directory signature not found.  Either this file is not\n",
            "  a zipfile, or it constitutes one disk of a multi-part archive.  In the\n",
            "  latter case the central directory and zipfile comment will be found on\n",
            "  the last disk(s) of this archive.\n",
            "unzip:  cannot find zipfile directory in one of /content/download?datasetVersionNumber=3 or\n",
            "        /content/download?datasetVersionNumber=3.zip, and cannot find /content/download?datasetVersionNumber=3.ZIP, period.\n",
            "\n",
            "No zipfiles found.\n"
          ]
        }
      ]
    }
  ]
}